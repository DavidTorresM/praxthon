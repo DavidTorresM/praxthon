{
 "cells": [
  {
   "cell_type": "code",
   "execution_count": 1,
   "id": "a5fac67f",
   "metadata": {},
   "outputs": [
    {
     "name": "stdout",
     "output_type": "stream",
     "text": [
      "Defaulting to user installation because normal site-packages is not writeable\n",
      "Requirement already satisfied: pyttsx3 in /home/alan/.local/lib/python3.10/site-packages (2.90)\n"
     ]
    }
   ],
   "source": [
    "!pip install pyttsx3\n",
    "import pyttsx3\n",
    "import speech_recognition as sr\n",
    "import webbrowser\n",
    "import datetime\n",
    "import pywhatkit\n",
    "import os\n",
    "import yfinance as yf\n",
    "import pyjokes\n"
   ]
  },
  {
   "cell_type": "code",
   "execution_count": 2,
   "id": "524f8b93",
   "metadata": {},
   "outputs": [],
   "source": [
    "ERROR_NO_ENTIENDO = \"No te entiendo\"\n",
    "ERROR_NO_RESULTADOS = \"No te entendi o no puedo encontrar resultados\"\n",
    "INFO_ESTOY_ESPERANDO = \"Estoy esperando tus ordenes\""
   ]
  },
  {
   "cell_type": "code",
   "execution_count": 6,
   "id": "c8108792",
   "metadata": {},
   "outputs": [],
   "source": [
    "def transform():\n",
    "    r = sr.Recognizer()\n",
    "    with sr.Microphone() as source:\n",
    "        r.adjust_for_ambient_noise(source)\n",
    "        r.pause_threshold = 0.8\n",
    "        said = r.listen(source)\n",
    "        try:\n",
    "            q = r.recognize_google(said, language=\"es-MX\")\n",
    "            return q\n",
    "        except sr.UnknownValueError:\n",
    "            return ERROR_NO_ENTIENDO\n",
    "        except sr.RequestError:\n",
    "            return ERROR_NO_RESULTADOS\n",
    "        except e:\n",
    "            return INFO_ESTOY_ESPERANDO\n"
   ]
  },
  {
   "cell_type": "code",
   "execution_count": 7,
   "id": "2f4cede3",
   "metadata": {},
   "outputs": [],
   "source": [
    "def speaking(message):\n",
    "    engine = pyttsx3.init()\n",
    "    engine.setProperty('rate', 150)\n",
    "    engine.setProperty('voice', 'spanish')\n",
    "    engine.setProperty('volume', 1)\n",
    "    engine.say(message)\n",
    "    engine.runAndWait()"
   ]
  },
  {
   "cell_type": "code",
   "execution_count": 8,
   "id": "6b4fd4ef",
   "metadata": {},
   "outputs": [
    {
     "data": {
      "text/plain": [
       "'la voz a texto Ahorita que empieza a transformar la voz a texto Hola cómo estás'"
      ]
     },
     "execution_count": 8,
     "metadata": {},
     "output_type": "execute_result"
    }
   ],
   "source": [
    "transform()"
   ]
  },
  {
   "cell_type": "code",
   "execution_count": 11,
   "id": "5e7bef74",
   "metadata": {},
   "outputs": [],
   "source": [
    "speaking(\"Hola como estas?\")"
   ]
  },
  {
   "cell_type": "code",
   "execution_count": null,
   "id": "d5a97153",
   "metadata": {},
   "outputs": [],
   "source": []
  },
  {
   "cell_type": "code",
   "execution_count": null,
   "id": "93ac9f97",
   "metadata": {},
   "outputs": [],
   "source": []
  },
  {
   "cell_type": "code",
   "execution_count": null,
   "id": "fd23668c",
   "metadata": {},
   "outputs": [],
   "source": []
  },
  {
   "cell_type": "code",
   "execution_count": null,
   "id": "90b58dff",
   "metadata": {},
   "outputs": [],
   "source": []
  },
  {
   "cell_type": "code",
   "execution_count": null,
   "id": "061aac45",
   "metadata": {},
   "outputs": [],
   "source": []
  },
  {
   "cell_type": "code",
   "execution_count": null,
   "id": "91fba3f7",
   "metadata": {},
   "outputs": [],
   "source": []
  },
  {
   "cell_type": "code",
   "execution_count": null,
   "id": "1cdb1c21",
   "metadata": {},
   "outputs": [],
   "source": []
  },
  {
   "cell_type": "code",
   "execution_count": null,
   "id": "627af3fd",
   "metadata": {},
   "outputs": [],
   "source": []
  },
  {
   "cell_type": "code",
   "execution_count": null,
   "id": "5a016953",
   "metadata": {},
   "outputs": [],
   "source": []
  }
 ],
 "metadata": {
  "kernelspec": {
   "display_name": "Python 3 (ipykernel)",
   "language": "python",
   "name": "python3"
  },
  "language_info": {
   "codemirror_mode": {
    "name": "ipython",
    "version": 3
   },
   "file_extension": ".py",
   "mimetype": "text/x-python",
   "name": "python",
   "nbconvert_exporter": "python",
   "pygments_lexer": "ipython3",
   "version": "3.10.6"
  }
 },
 "nbformat": 4,
 "nbformat_minor": 5
}

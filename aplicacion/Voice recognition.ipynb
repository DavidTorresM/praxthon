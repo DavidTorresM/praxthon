{
 "cells": [
  {
   "cell_type": "code",
   "execution_count": null,
   "id": "0e17b473",
   "metadata": {},
   "outputs": [],
   "source": [
    "!pip install pyttsx3\n",
    "import pyttsx3\n",
    "import speech_recognition as sr\n",
    "import webbrowser\n",
    "import datetime\n",
    "import pywhatkit\n",
    "import os\n",
    "import yfinance as yf\n",
    "import pyjokes\n"
   ]
  },
  {
   "cell_type": "code",
   "execution_count": null,
   "id": "032ea963",
   "metadata": {},
   "outputs": [],
   "source": []
  },
  {
   "cell_type": "code",
   "execution_count": null,
   "id": "8f7bcc89",
   "metadata": {},
   "outputs": [],
   "source": [
    "def transform():\n",
    "    r = sr.Recognizer()\n",
    "    with sr.Microphone() as source:\n",
    "        r.adjust_for_ambient_noise(source)\n",
    "        r.pause_threshold = 0.8\n",
    "        said = r.listen(source)\n",
    "        try:\n",
    "            q = r.recognize_google(said, language=\"es-MX\")\n",
    "            return q\n",
    "        except sr.UnknownValueError:\n",
    "            return ERROR_NO_ENTIENDO\n",
    "        except sr.RequestError:\n",
    "            return ERROR_NO_RESULTADOS\n",
    "        except e:\n",
    "            return INFO_ESTOY_ESPERANDO"
   ]
  },
  {
   "cell_type": "code",
   "execution_count": null,
   "id": "8b811525",
   "metadata": {},
   "outputs": [],
   "source": []
  },
  {
   "cell_type": "code",
   "execution_count": null,
   "id": "29510ecf",
   "metadata": {},
   "outputs": [],
   "source": []
  },
  {
   "cell_type": "code",
   "execution_count": null,
   "id": "ca502039",
   "metadata": {},
   "outputs": [],
   "source": []
  }
 ],
 "metadata": {
  "kernelspec": {
   "display_name": "Python 3 (ipykernel)",
   "language": "python",
   "name": "python3"
  },
  "language_info": {
   "codemirror_mode": {
    "name": "ipython",
    "version": 3
   },
   "file_extension": ".py",
   "mimetype": "text/x-python",
   "name": "python",
   "nbconvert_exporter": "python",
   "pygments_lexer": "ipython3",
   "version": "3.10.6"
  }
 },
 "nbformat": 4,
 "nbformat_minor": 5
}

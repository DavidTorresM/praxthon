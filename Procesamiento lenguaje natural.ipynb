{
 "cells": [
  {
   "cell_type": "markdown",
   "id": "c60fc62b",
   "metadata": {},
   "source": [
    "## Procesa el lenguaje"
   ]
  },
  {
   "cell_type": "markdown",
   "id": "716bd3bc",
   "metadata": {},
   "source": [
    "Se recibe el comando en la funcion\n"
   ]
  },
  {
   "cell_type": "code",
   "execution_count": 293,
   "id": "c39f8eb2",
   "metadata": {},
   "outputs": [],
   "source": [
    "import os\n",
    "import openai\n",
    "import webbrowser"
   ]
  },
  {
   "cell_type": "code",
   "execution_count": 294,
   "id": "056f01ab",
   "metadata": {},
   "outputs": [],
   "source": [
    "def preguntarIa(comando):\n",
    "    openai.api_key = os.getenv(\"OPENAI_API_KEY\")\n",
    "    response = openai.Completion.create(\n",
    "      model=\"text-davinci-002\",\n",
    "      prompt=f\"{comando}\",\n",
    "      temperature=0,\n",
    "      max_tokens=100,\n",
    "      #top_p=1.0,\n",
    "      #frequency_penalty=0.0,\n",
    "      #resence_penalty=0.0\n",
    "    )\n",
    "    respuesta = [ i[\"text\"].replace(\"\\n\",\"\") for i in response[\"choices\"]]\n",
    "    print(respuesta)\n",
    "    return \"\\n\".join(respuesta).lower()"
   ]
  },
  {
   "cell_type": "code",
   "execution_count": 295,
   "id": "33695078",
   "metadata": {},
   "outputs": [],
   "source": [
    "def preguntar_modo(oracion):\n",
    "    respuesta = preguntarIa(f\"¿Cual es el modo de la siguiente oracion?\\n{oracion}\")\n",
    "    return respuesta"
   ]
  },
  {
   "cell_type": "code",
   "execution_count": 296,
   "id": "f36cb354",
   "metadata": {},
   "outputs": [],
   "source": [
    "def get_url_sitio(oracion):\n",
    "    respuesta = preguntarIa(f\"¿En la siguiente oracion estan hablando sobre sitios web, si la respuesta es si cual es la url del sitio?\\n{oracion}\")\n",
    "    if respuesta.find(\"http\") < 0:\n",
    "        return None\n",
    "    return respuesta[respuesta.find(\"http\"):]"
   ]
  },
  {
   "cell_type": "code",
   "execution_count": 297,
   "id": "cf7da901",
   "metadata": {},
   "outputs": [],
   "source": [
    "def preguntar_ia_boolean(pregunta,oracion):\n",
    "    respuesta = preguntarIa(f\"{pregunta}\\n{oracion}\")\n",
    "    return \"sí\" in respuesta"
   ]
  },
  {
   "cell_type": "code",
   "execution_count": 298,
   "id": "bd8b8996",
   "metadata": {},
   "outputs": [],
   "source": [
    "def es_imperativa(oracion):\n",
    "    respuesta = preguntarIa(f\"¿en la siguiente oracion estan hablando en modo imperativo?\\n{oracion}\")\n",
    "    return \"sí\" in respuesta"
   ]
  },
  {
   "cell_type": "code",
   "execution_count": 299,
   "id": "b6e212b7",
   "metadata": {},
   "outputs": [],
   "source": [
    "def hablan_de_sitios_web(oracion):\n",
    "    respuesta = preguntarIa(f\"¿En la siguiente oracion estan hablando sobre sitios web?\\n{oracion}\")\n",
    "    return \"sí\" in respuesta"
   ]
  },
  {
   "cell_type": "code",
   "execution_count": 300,
   "id": "110811fd",
   "metadata": {},
   "outputs": [],
   "source": [
    "def mainProcesamiento(palabra):\n",
    "    if es_imperativa(palabra):\n",
    "        url = get_url_sitio(palabra)\n",
    "        if url != None:\n",
    "            webbrowser.open(url)\n",
    "    elif preguntar_ia_boolean(\"¿En la siguiente oración estan haciendo una pregunta?\",palabra):\n",
    "        respuesta = preguntarIa(palabra)\n",
    "        print(respuesta)\n",
    "    "
   ]
  },
  {
   "cell_type": "code",
   "execution_count": 301,
   "id": "eaedf11b",
   "metadata": {},
   "outputs": [
    {
     "name": "stdout",
     "output_type": "stream",
     "text": [
      "['No.']\n",
      "['Sí, están haciendo una pregunta.']\n",
      "['Un grafo bipartito es un grafo que se puede dividir en dos conjuntos de vértices de tal manera que todas las aristas del grafo están entre los dos conjuntos de vértices.']\n",
      "un grafo bipartito es un grafo que se puede dividir en dos conjuntos de vértices de tal manera que todas las aristas del grafo están entre los dos conjuntos de vértices.\n"
     ]
    }
   ],
   "source": [
    "mainProcesamiento(\"¿que es un grafo bipartito en teoria de grafos?\")"
   ]
  },
  {
   "cell_type": "code",
   "execution_count": 268,
   "id": "310b2db4",
   "metadata": {},
   "outputs": [
    {
     "name": "stdout",
     "output_type": "stream",
     "text": [
      "['No']\n",
      "['No, no están haciendo una pregunta.']\n"
     ]
    }
   ],
   "source": [
    "mainProcesamiento(\"Puedes abrir youtube\")"
   ]
  },
  {
   "cell_type": "code",
   "execution_count": null,
   "id": "b1719fb6",
   "metadata": {},
   "outputs": [],
   "source": []
  },
  {
   "cell_type": "code",
   "execution_count": null,
   "id": "ad78288f",
   "metadata": {},
   "outputs": [],
   "source": [
    "mainProcesamiento(\"¿que es un grafo bipartito en teoria de grafos?\")"
   ]
  },
  {
   "cell_type": "code",
   "execution_count": null,
   "id": "7ee6b489",
   "metadata": {},
   "outputs": [],
   "source": []
  },
  {
   "cell_type": "code",
   "execution_count": null,
   "id": "96848dd1",
   "metadata": {},
   "outputs": [],
   "source": []
  },
  {
   "cell_type": "code",
   "execution_count": null,
   "id": "350f390d",
   "metadata": {},
   "outputs": [],
   "source": []
  },
  {
   "cell_type": "code",
   "execution_count": null,
   "id": "9b3ae560",
   "metadata": {},
   "outputs": [],
   "source": []
  },
  {
   "cell_type": "code",
   "execution_count": null,
   "id": "37c1a09e",
   "metadata": {},
   "outputs": [],
   "source": []
  },
  {
   "cell_type": "markdown",
   "id": "cf307f65",
   "metadata": {},
   "source": [
    "# hilos"
   ]
  },
  {
   "cell_type": "code",
   "execution_count": 292,
   "id": "839b9558",
   "metadata": {},
   "outputs": [
    {
     "name": "stdout",
     "output_type": "stream",
     "text": [
      "datadatadatadatadatadatadatadatadatadatadata\n",
      "\n",
      "\n",
      "datadatadatadatadatadata\n",
      "datadatadatadata\n",
      "datadata\n",
      "datadata\n",
      "datadatadatadatadatadata\n",
      "\n",
      "\n",
      "\n",
      "datadata\n",
      "\n",
      "\n",
      "data\n",
      "data\n",
      "\n",
      "\n",
      "datadata\n",
      "\n",
      "\n",
      "\n",
      "\n",
      "\n",
      "\n",
      "datadatadata\n",
      "data\n",
      "datadata\n",
      "\n",
      "\n",
      "\n",
      "\n",
      "\n",
      "\n",
      "datadatadatadatadatadatadatadata\n",
      "datadata\n",
      "datadata\n",
      "\n",
      "data\n",
      "data\n",
      "\n",
      "\n",
      "datadata\n",
      "datadata\n",
      "\n",
      "data\n",
      "datadata\n",
      "\n",
      "data\n",
      "\n",
      "\n",
      "\n",
      "\n",
      "data\n",
      "datadata\n",
      "\n",
      "data\n",
      "data\n",
      "data\n",
      "data\n",
      "\n",
      "\n",
      "\n",
      "datadatadatadatadatadata\n",
      "data\n",
      "\n",
      "data\n",
      "datadatadata\n",
      "\n",
      "datadatadata\n",
      "data\n",
      "data\n",
      "\n",
      "datadatadatadatadata\n",
      "\n",
      "\n",
      "\n",
      "datadata\n",
      "data\n",
      "datadata\n",
      "\n",
      "\n",
      "datadata\n",
      "\n",
      "\n",
      "\n",
      "\n",
      "\n",
      "\n",
      "\n",
      "\n",
      "\n",
      "\n",
      "\n",
      "\n",
      "\n",
      "\n",
      "\n",
      "\n",
      "\n",
      "0\n",
      "2\n",
      "4\n",
      "6\n",
      "8\n",
      "10\n",
      "12\n",
      "14\n",
      "16\n",
      "18\n",
      "20\n",
      "22\n",
      "24\n",
      "26\n",
      "28\n",
      "30\n",
      "32\n",
      "34\n",
      "36\n",
      "38\n",
      "40\n",
      "42\n",
      "44\n",
      "46\n",
      "48\n",
      "50\n",
      "52\n",
      "54\n",
      "56\n",
      "58\n",
      "60\n",
      "62\n",
      "64\n",
      "66\n",
      "68\n",
      "70\n",
      "72\n",
      "74\n",
      "76\n",
      "78\n",
      "80\n",
      "82\n",
      "84\n",
      "86\n",
      "88\n",
      "90\n",
      "92\n",
      "94\n",
      "96\n",
      "98\n",
      "100\n",
      "102\n",
      "104\n",
      "106\n",
      "108\n",
      "110\n",
      "112\n",
      "114\n",
      "116\n",
      "118\n",
      "120\n",
      "122\n",
      "124\n",
      "126\n",
      "128\n",
      "130\n",
      "132\n",
      "134\n",
      "136\n",
      "138\n",
      "140\n",
      "142\n",
      "144\n",
      "146\n",
      "148\n",
      "150\n",
      "152\n",
      "154\n",
      "156\n",
      "158\n",
      "160\n",
      "162\n",
      "164\n",
      "166\n",
      "168\n",
      "170\n",
      "172\n",
      "174\n",
      "176\n",
      "178\n",
      "180\n",
      "182\n",
      "184\n",
      "186\n",
      "188\n",
      "190\n",
      "192\n",
      "194\n",
      "196\n",
      "198\n"
     ]
    }
   ],
   "source": [
    "from multiprocessing  import Pool\n",
    "def f(x):\n",
    "    print(\"data\")\n",
    "    return x[0]+x[1]\n",
    "with Pool(32) as p:\n",
    "    result = p.map_async(f, [(i,i) for i in range(100)])\n",
    "    \n",
    "    for rs in result.get():\n",
    "        print(rs)\n",
    "    \n",
    "    result.wait()"
   ]
  },
  {
   "cell_type": "code",
   "execution_count": null,
   "id": "bad7d33a",
   "metadata": {},
   "outputs": [],
   "source": []
  },
  {
   "cell_type": "code",
   "execution_count": null,
   "id": "7f37471b",
   "metadata": {},
   "outputs": [],
   "source": []
  },
  {
   "cell_type": "code",
   "execution_count": null,
   "id": "f59ee281",
   "metadata": {},
   "outputs": [],
   "source": []
  },
  {
   "cell_type": "code",
   "execution_count": null,
   "id": "f3524fec",
   "metadata": {},
   "outputs": [],
   "source": []
  }
 ],
 "metadata": {
  "kernelspec": {
   "display_name": "Python 3 (ipykernel)",
   "language": "python",
   "name": "python3"
  },
  "language_info": {
   "codemirror_mode": {
    "name": "ipython",
    "version": 3
   },
   "file_extension": ".py",
   "mimetype": "text/x-python",
   "name": "python",
   "nbconvert_exporter": "python",
   "pygments_lexer": "ipython3",
   "version": "3.10.6"
  }
 },
 "nbformat": 4,
 "nbformat_minor": 5
}

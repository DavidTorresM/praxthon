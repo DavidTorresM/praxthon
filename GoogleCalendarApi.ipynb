{
 "cells": [
  {
   "cell_type": "code",
   "execution_count": 1,
   "id": "d460b044",
   "metadata": {},
   "outputs": [],
   "source": [
    "from gcsa.event import Event\n",
    "from gcsa.google_calendar import GoogleCalendar\n",
    "from gcsa.recurrence import Recurrence, DAILY, SU, SA\n",
    "\n",
    "from beautiful_date import Jan, Apr,Oct"
   ]
  },
  {
   "cell_type": "code",
   "execution_count": 2,
   "id": "2f23875c",
   "metadata": {},
   "outputs": [
    {
     "data": {
      "text/plain": [
       "<Event 2019-01-01 09:00:00-06:00 - Breakfast>"
      ]
     },
     "execution_count": 2,
     "metadata": {},
     "output_type": "execute_result"
    }
   ],
   "source": [
    "calendar = GoogleCalendar('tesladoraemon5@gmail.com')\n",
    "event = Event(\n",
    "    'Breakfast',\n",
    "    start=(1 / Jan / 2019)[9:00],\n",
    "    recurrence=[\n",
    "        Recurrence.rule(freq=DAILY),\n",
    "        Recurrence.exclude_rule(by_week_day=[SU, SA]),\n",
    "        Recurrence.exclude_times([\n",
    "            (23 / Oct / 2022)[9:00],\n",
    "            (28 / Oct / 2022)[9:00]\n",
    "        ])\n",
    "    ],\n",
    "    minutes_before_email_reminder=50\n",
    ")\n",
    "\n",
    "calendar.add_event(event)\n",
    "\n"
   ]
  },
  {
   "cell_type": "code",
   "execution_count": 6,
   "id": "f7b52ed5",
   "metadata": {},
   "outputs": [
    {
     "name": "stdout",
     "output_type": "stream",
     "text": [
      "<class 'gcsa.event.Event'>\n"
     ]
    }
   ],
   "source": [
    "for i in calendar:\n",
    "    print(type(i))"
   ]
  },
  {
   "cell_type": "code",
   "execution_count": 8,
   "id": "5ab9b80e",
   "metadata": {},
   "outputs": [
    {
     "data": {
      "text/plain": [
       "gcsa.google_calendar.GoogleCalendar"
      ]
     },
     "execution_count": 8,
     "metadata": {},
     "output_type": "execute_result"
    }
   ],
   "source": [
    "type(calendar)"
   ]
  },
  {
   "cell_type": "code",
   "execution_count": null,
   "id": "6fd6c128",
   "metadata": {},
   "outputs": [],
   "source": []
  },
  {
   "cell_type": "code",
   "execution_count": 14,
   "id": "b130bfd9",
   "metadata": {},
   "outputs": [
    {
     "ename": "TypeError",
     "evalue": "CalendarsService.add_calendar() missing 1 required positional argument: 'calendar'",
     "output_type": "error",
     "traceback": [
      "\u001b[0;31m---------------------------------------------------------------------------\u001b[0m",
      "\u001b[0;31mTypeError\u001b[0m                                 Traceback (most recent call last)",
      "\u001b[0;32m/tmp/ipykernel_62900/3346391266.py\u001b[0m in \u001b[0;36m<module>\u001b[0;34m\u001b[0m\n\u001b[0;32m----> 1\u001b[0;31m \u001b[0mcalendar\u001b[0m\u001b[0;34m.\u001b[0m\u001b[0madd_calendar\u001b[0m\u001b[0;34m(\u001b[0m\u001b[0;34m)\u001b[0m\u001b[0;34m\u001b[0m\u001b[0;34m\u001b[0m\u001b[0m\n\u001b[0m",
      "\u001b[0;31mTypeError\u001b[0m: CalendarsService.add_calendar() missing 1 required positional argument: 'calendar'"
     ]
    }
   ],
   "source": [
    "calendar.add_calendar()"
   ]
  },
  {
   "cell_type": "code",
   "execution_count": 21,
   "id": "4d8f4e69",
   "metadata": {},
   "outputs": [
    {
     "name": "stdout",
     "output_type": "stream",
     "text": [
      "2022-10-23 19:00:00-05:00 - Arquis avanzadas\n",
      "2022-10-25 19:00:00-05:00 - Arquis avanzadas\n",
      "2022-10-29 19:00:00-05:00 - Arquis avanzadas\n",
      "2022-10-29 21:00:00-05:00 - Señales\n",
      "2022-10-24 19:00:00-05:00 - Señales\n",
      "2022-10-26 19:00:00-05:00 - Señales\n",
      "2022-10-30 19:00:00-06:00 - Arquis avanzadas\n",
      "2022-11-01 19:00:00-06:00 - Arquis avanzadas\n",
      "2022-11-05 19:00:00-06:00 - Arquis avanzadas\n",
      "2022-10-31 19:00:00-06:00 - Señales\n",
      "2022-11-05 21:00:00-06:00 - Señales\n",
      "2022-11-02 19:00:00-06:00 - Señales\n",
      "2022-11-09 19:00:00-06:00 - Señales\n",
      "2022-11-12 21:00:00-06:00 - Señales\n",
      "2022-11-07 19:00:00-06:00 - Señales\n",
      "2022-11-08 19:00:00-06:00 - Arquis avanzadas\n",
      "2022-11-06 19:00:00-06:00 - Arquis avanzadas\n",
      "2022-11-12 19:00:00-06:00 - Arquis avanzadas\n",
      "2022-11-13 19:00:00-06:00 - Arquis avanzadas\n",
      "2022-11-19 19:00:00-06:00 - Arquis avanzadas\n",
      "2022-11-15 19:00:00-06:00 - Arquis avanzadas\n",
      "2022-11-16 19:00:00-06:00 - Señales\n",
      "2022-11-14 19:00:00-06:00 - Señales\n",
      "2022-11-19 21:00:00-06:00 - Señales\n",
      "2022-11-21 19:00:00-06:00 - Señales\n",
      "2022-11-26 21:00:00-06:00 - Señales\n",
      "2022-11-23 19:00:00-06:00 - Señales\n",
      "2022-11-22 19:00:00-06:00 - Arquis avanzadas\n",
      "2022-11-20 19:00:00-06:00 - Arquis avanzadas\n",
      "2022-11-26 19:00:00-06:00 - Arquis avanzadas\n"
     ]
    }
   ],
   "source": [
    "gc = GoogleCalendar()\n",
    "for event in gc:\n",
    "    print(event)"
   ]
  },
  {
   "cell_type": "code",
   "execution_count": 28,
   "id": "02b3a601",
   "metadata": {},
   "outputs": [
    {
     "data": {
      "text/plain": [
       "<Event 2022-10-24 10:00:00-05:00 - Ganar el praxthon>"
      ]
     },
     "execution_count": 28,
     "metadata": {},
     "output_type": "execute_result"
    }
   ],
   "source": [
    "from datetime import datetime\n",
    "from gcsa.event import Event\n",
    "\n",
    "event = Event(\n",
    "    'Ganar el praxthon',\n",
    "    start=datetime(2022, 10, 24, 10, 0),\n",
    "    location='En algun lugar de españa',\n",
    "    minutes_before_popup_reminder=15\n",
    ")\n",
    "calendar.add_event(event)"
   ]
  },
  {
   "cell_type": "code",
   "execution_count": 26,
   "id": "e166595f",
   "metadata": {},
   "outputs": [],
   "source": [
    "datetime?"
   ]
  },
  {
   "cell_type": "code",
   "execution_count": null,
   "id": "0bf1b15f",
   "metadata": {},
   "outputs": [],
   "source": []
  },
  {
   "cell_type": "code",
   "execution_count": 31,
   "id": "01332af1",
   "metadata": {},
   "outputs": [
    {
     "data": {
      "text/plain": [
       "<Event 2022-10-24 - Final praxisthon>"
      ]
     },
     "execution_count": 31,
     "metadata": {},
     "output_type": "execute_result"
    }
   ],
   "source": [
    "from gcsa.recurrence import Recurrence\n",
    "from datetime import date, datetime\n",
    "event = Event(\n",
    "    'Final praxisthon',\n",
    "    start=date(2022, 10, 24),\n",
    ")\n",
    "calendar.add_event(event)"
   ]
  },
  {
   "cell_type": "code",
   "execution_count": 32,
   "id": "055ee22d",
   "metadata": {},
   "outputs": [],
   "source": [
    "Event?"
   ]
  },
  {
   "cell_type": "code",
   "execution_count": null,
   "id": "32202f46",
   "metadata": {},
   "outputs": [],
   "source": []
  },
  {
   "cell_type": "code",
   "execution_count": null,
   "id": "d4e56a47",
   "metadata": {},
   "outputs": [],
   "source": []
  },
  {
   "cell_type": "code",
   "execution_count": null,
   "id": "42aa9ec7",
   "metadata": {},
   "outputs": [],
   "source": []
  },
  {
   "cell_type": "code",
   "execution_count": null,
   "id": "a1930c16",
   "metadata": {},
   "outputs": [],
   "source": []
  },
  {
   "cell_type": "code",
   "execution_count": null,
   "id": "a063e3e8",
   "metadata": {},
   "outputs": [],
   "source": []
  },
  {
   "cell_type": "code",
   "execution_count": null,
   "id": "0656efac",
   "metadata": {},
   "outputs": [],
   "source": []
  },
  {
   "cell_type": "code",
   "execution_count": null,
   "id": "b61a79c0",
   "metadata": {},
   "outputs": [],
   "source": []
  },
  {
   "cell_type": "code",
   "execution_count": null,
   "id": "d43b8af8",
   "metadata": {},
   "outputs": [],
   "source": []
  },
  {
   "cell_type": "code",
   "execution_count": null,
   "id": "9853be95",
   "metadata": {},
   "outputs": [],
   "source": []
  }
 ],
 "metadata": {
  "kernelspec": {
   "display_name": "Python 3 (ipykernel)",
   "language": "python",
   "name": "python3"
  },
  "language_info": {
   "codemirror_mode": {
    "name": "ipython",
    "version": 3
   },
   "file_extension": ".py",
   "mimetype": "text/x-python",
   "name": "python",
   "nbconvert_exporter": "python",
   "pygments_lexer": "ipython3",
   "version": "3.10.6"
  }
 },
 "nbformat": 4,
 "nbformat_minor": 5
}
